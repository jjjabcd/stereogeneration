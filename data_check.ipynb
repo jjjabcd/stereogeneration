{
 "cells": [
  {
   "cell_type": "code",
   "execution_count": 1,
   "id": "dbe77bfa",
   "metadata": {},
   "outputs": [],
   "source": [
    "import os\n",
    "import numpy as np"
   ]
  },
  {
   "cell_type": "code",
   "execution_count": 12,
   "id": "ad350ad9",
   "metadata": {},
   "outputs": [],
   "source": [
    "data_dir = os.path.join('data')\n",
    "\n",
    "alphabet = np.load(os.path.join(data_dir, 'isoalphabet.npz'))"
   ]
  },
  {
   "cell_type": "code",
   "execution_count": 13,
   "id": "d59a8c63",
   "metadata": {},
   "outputs": [
    {
     "name": "stdout",
     "output_type": "stream",
     "text": [
      "['alphabet']\n"
     ]
    }
   ],
   "source": [
    "key = alphabet.files\n",
    "\n",
    "print(key)"
   ]
  },
  {
   "cell_type": "code",
   "execution_count": 14,
   "id": "31e9c22a",
   "metadata": {},
   "outputs": [
    {
     "name": "stdout",
     "output_type": "stream",
     "text": [
      "['[#Branch1]' '[#Branch1]' '[#Branch1]' '[#Branch2]' '[#Branch2]'\n",
      " '[#Branch2]' '[#C]' '[#N]' '[/Br]' '[/C@@H1]' '[/C@@]' '[/C@H1]' '[/C@]'\n",
      " '[/C]' '[/Cl]' '[/F]' '[/I]' '[/N+1]' '[/NH1]' '[/N]' '[/O]' '[/S@@]'\n",
      " '[/S@]' '[/S]' '[=Branch1]' '[=Branch1]' '[=Branch1]' '[=Branch2]'\n",
      " '[=Branch2]' '[=Branch2]' '[=C]' '[=N+1]' '[=N-1]' '[=N]' '[=O]' '[=P@@]'\n",
      " '[=P@]' '[=P]' '[=Ring1]' '[=Ring1]' '[=Ring1]' '[=Ring2]' '[=Ring2]'\n",
      " '[=Ring2]' '[=S@@]' '[=S@]' '[=S]' '[Br]' '[Branch1]' '[Branch1]'\n",
      " '[Branch1]' '[Branch2]' '[Branch2]' '[Branch2]' '[C@@H1]' '[C@@]'\n",
      " '[C@H1]' '[C@]' '[C]' '[Cl]' '[F]' '[I]' '[N+1]' '[N-1]' '[NH1]' '[N]'\n",
      " '[O-1]' '[O]' '[P@@]' '[P@]' '[P]' '[Ring1]' '[Ring1]' '[Ring1]'\n",
      " '[Ring2]' '[Ring2]' '[Ring2]' '[S@@]' '[S@]' '[S]' '[\\\\Br]' '[\\\\C@@H1]'\n",
      " '[\\\\C@@]' '[\\\\C@H1]' '[\\\\C@]' '[\\\\C]' '[\\\\Cl]' '[\\\\F]' '[\\\\I]' '[\\\\N+1]'\n",
      " '[\\\\NH1]' '[\\\\N]' '[\\\\O]' '[\\\\S@@]' '[\\\\S@]' '[\\\\S]']\n"
     ]
    }
   ],
   "source": [
    "array = alphabet[key[0]]\n",
    "print(array)"
   ]
  },
  {
   "cell_type": "code",
   "execution_count": null,
   "id": "05af48ed",
   "metadata": {},
   "outputs": [],
   "source": []
  }
 ],
 "metadata": {
  "kernelspec": {
   "display_name": "Python 3 (ipykernel)",
   "language": "python",
   "name": "python3"
  },
  "language_info": {
   "codemirror_mode": {
    "name": "ipython",
    "version": 3
   },
   "file_extension": ".py",
   "mimetype": "text/x-python",
   "name": "python",
   "nbconvert_exporter": "python",
   "pygments_lexer": "ipython3",
   "version": "3.12.7"
  }
 },
 "nbformat": 4,
 "nbformat_minor": 5
}
